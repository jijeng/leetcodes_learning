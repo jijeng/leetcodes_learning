{
 "cells": [
  {
   "cell_type": "markdown",
   "metadata": {},
   "source": [
    "- import unittest\n",
    "Python unit testing framework\n",
    "- ascill & unicode\n",
    "Unicode与ASCII一样也是一种字符编码方法，它占用两个字节（0000H—FFFFH）,容纳65536 个字符，这完全可以容纳全世界所有语言文字的编码。ASCII 是用来表示英文字符的一种编码规范。每个ASCII字符占用1 个字节，因此，ASCII 编码可以表示的最大字符数是255（00H—FFH）。\n",
    "重复一遍，这里的关系是，UTF-8是Unicode的实现方式之一。\n",
    "- DP 动态规划\n",
    "- python map(function, [arg])\n",
    "python map(fun，[arg]+)函数最少有两个参数，第一参数为一个函数名，第二个参数是对应的这个函数的参数（一般为一个或多个list）\n",
    "(python 3.x 中map函数返回的是iterators，无法像python2.x 直接返回一个list，故需要再加上一个list()将iterators转化为一个list)\n",
    "lambda表达式：有人说类似于一种匿名函数，通常是在需要一个函数，但是又不想费神去命名一个函数的场合下使用。\n",
    "- None =='' in string type\n",
    "- hash tabel , hash mapping\n",
    "hash table is {} in python , dictionary\n",
    "- python set()\n",
    "python的set和其他语言类似, 是一个无序不重复元素集, 基本功能包括关系测试和消除重复元素. 集合对象还支持union(联合), intersection(交), difference(差)和sysmmetric difference(对称差集)等数学运算.  \n",
    "\n",
    "- python filter and lambda\n",
    "- lambda arg: expression\n",
    "冒号前是参数，冒号后是返回值\n",
    "- filter()\n",
    "参数：一个函数func和一个列表list\n",
    "func的作用：对list的每个元素进行判断，符合条件返回true,否则返回false\n",
    "filter根据判断结果自动过滤掉不符合条件的元素，并返回有符合元素组成的新列表\n",
    "- f(N,M)=(f(N−1,M)+M)%N 约瑟夫环 递推公式\n",
    "N个人编号为1，2，……，N，依次报数，每报到M时，杀掉那个人，求最后胜利者的编号。\n",
    "\n",
    "理解这个递推式的核心在于关注胜利者的下标位置是怎么变的。每杀掉一个人，其实就是把这个数组向前移动了M位。然后逆过来，就可以得到这个递推式。\n",
    "- heap queue 堆\n",
    "import heapq\n",
    "- heappush(heap, item):\n",
    "push item onto heap, maintaining the heap invariant\n",
    "\n",
    "- heappop(heap):\n",
    "pop the smallest item off the heap, maintaining the heap invariant\n",
    "\n",
    "- lexicographical\n",
    "字典序;按字典顺序\n",
    "\n",
    "\n"
   ]
  },
  {
   "cell_type": "code",
   "execution_count": null,
   "metadata": {},
   "outputs": [],
   "source": []
  }
 ],
 "metadata": {
  "kernelspec": {
   "display_name": "Python 3",
   "language": "python",
   "name": "python3"
  },
  "language_info": {
   "codemirror_mode": {
    "name": "ipython",
    "version": 3
   },
   "file_extension": ".py",
   "mimetype": "text/x-python",
   "name": "python",
   "nbconvert_exporter": "python",
   "pygments_lexer": "ipython3",
   "version": "3.5.2"
  }
 },
 "nbformat": 4,
 "nbformat_minor": 2
}
